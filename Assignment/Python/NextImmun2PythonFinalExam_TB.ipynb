{
  "cells": [
    {
      "cell_type": "markdown",
      "metadata": {
        "id": "9Wpep-sI3ojO"
      },
      "source": [
        "## This Jupyter Notebook serves as a demo Workflow of cleaning and exploring IgE measurements with Pax for an allergen panel involve testing blood samples to detect Immunoglobulin E (IgE) antibody levels against specific allergens using the Pax system.\n",
        "\n",
        "Fill in the empty code cells below. Feel free to add more code cells if needed."
      ]
    },
    {
      "cell_type": "markdown",
      "metadata": {
        "id": "EEGRQs2QEGs0"
      },
      "source": [
        "### Data upload:\n",
        "- Use the upload button on the left to upload the file: 'PAX_Data.xlsx'\n",
        "- By default the data should have been upload to into the folder '/content'"
      ]
    },
    {
      "cell_type": "markdown",
      "metadata": {
        "id": "apC-TfeGEkuC"
      },
      "source": [
        "## Load the required modules\n",
        "- Just run the following code-cell to load all modules needed for this exercise"
      ]
    },
    {
      "cell_type": "code",
      "execution_count": 1,
      "metadata": {
        "id": "l-jtRZ_b8J1K"
      },
      "outputs": [],
      "source": [
        "import os\n",
        "import pandas as pd\n",
        "import numpy as np"
      ]
    },
    {
      "cell_type": "markdown",
      "metadata": {
        "id": "b2m0MQK8C6JK"
      },
      "source": [
        "### Checking the working directory:\n",
        "- use 'os.getcwd()' method to check for the current working directory.\n",
        "- If you are using Google Colab, the default working directory should be the folder 'content'\n",
        "- If not, use the 'os. chdir(<path>)' method to make sure to set the working directory"
      ]
    },
    {
      "cell_type": "code",
      "execution_count": 2,
      "metadata": {
        "id": "jCGpnwB79b_P"
      },
      "outputs": [
        {
          "data": {
            "text/plain": [
              "'i:\\\\DII ALL2\\\\Theresa\\\\R Kurse\\\\Data SCience 2 Assignment'"
            ]
          },
          "execution_count": 2,
          "metadata": {},
          "output_type": "execute_result"
        }
      ],
      "source": [
        "os.getcwd()"
      ]
    },
    {
      "cell_type": "markdown",
      "metadata": {
        "id": "NvsWxy8F9-uy"
      },
      "source": [
        "## Read the excel file\n",
        "- if you are not using Google Colab, make sure to set the path to your data file correctly: \\'<FILE-PATH\\>/PAX_Data.xlsx'\n",
        "- use: 'Sheet1' as sheet_name\n",
        "- ignore the header: header=None\n",
        "- assign the loaded data to a variable called: df\n"
      ]
    },
    {
      "cell_type": "code",
      "execution_count": 3,
      "metadata": {
        "id": "bF0WoJbC8d02"
      },
      "outputs": [],
      "source": [
        "df = pd.read_excel('i:\\\\DII ALL2\\\\Theresa\\\\R Kurse\\\\Data SCience 2 Assignment/PAX_Data.xlsx', sheet_name='Sheet1', header=None)"
      ]
    },
    {
      "cell_type": "markdown",
      "metadata": {
        "id": "M6yjtn4WGiez"
      },
      "source": [
        "### Print the 'shape' of the dataframe"
      ]
    },
    {
      "cell_type": "code",
      "execution_count": 4,
      "metadata": {
        "id": "BbpLo_WBGcYY"
      },
      "outputs": [
        {
          "name": "stdout",
          "output_type": "stream",
          "text": [
            "(250, 6616)\n"
          ]
        }
      ],
      "source": [
        "print(df.shape)"
      ]
    },
    {
      "cell_type": "markdown",
      "metadata": {
        "id": "OcRJcshNI6SG"
      },
      "source": [
        "### Print the number of rows:"
      ]
    },
    {
      "cell_type": "code",
      "execution_count": 5,
      "metadata": {
        "id": "npdOHFeOI_0B"
      },
      "outputs": [
        {
          "name": "stdout",
          "output_type": "stream",
          "text": [
            "250\n"
          ]
        }
      ],
      "source": [
        "print(len(df))"
      ]
    },
    {
      "cell_type": "markdown",
      "metadata": {
        "id": "FIQmZ_3i_ex0"
      },
      "source": [
        "### Use the 'head' method to have a look at the first 10 rows of the table"
      ]
    },
    {
      "cell_type": "code",
      "execution_count": 6,
      "metadata": {
        "id": "p0HlMDZF9D-5"
      },
      "outputs": [
        {
          "name": "stdout",
          "output_type": "stream",
          "text": [
            "           0                1               2               3     \\\n",
            "0  Date of test       2023-04-13      2023-04-13      2023-04-13   \n",
            "1   Test number      2334000487D     2331000683D     2331000884D   \n",
            "2       Country            Spain      Netherland         Germany   \n",
            "3       Age Y/M  3Years 11Months  2Years 8Months  2Years 8Months   \n",
            "4           Sex           Female            Male            Male   \n",
            "5         Cyn d             18.5           19.67           20.11   \n",
            "6      rCyn d 1            22.99           21.95           20.66   \n",
            "7         Dac g            19.15           19.57           21.78   \n",
            "8         Fes p            21.84            21.3           26.96   \n",
            "9      rLol p 1            22.33           22.23           22.59   \n",
            "\n",
            "             4                 5               6               7     \\\n",
            "0      2023-04-13        2023-04-13      2023-04-13      2023-04-13   \n",
            "1     2331000880D       2331000851D     2331001025D     2331000881D   \n",
            "2         Germany        Netherland          Sweden         Germany   \n",
            "3  7Years 9Months  11Years 11Months  4Years 8Months  1Years 9Months   \n",
            "4          Female              Male          Female            Male   \n",
            "5           18.09             17.92           17.78           18.64   \n",
            "6           21.68             20.56           21.62           22.83   \n",
            "7           18.37             18.12           19.35           19.95   \n",
            "8           24.05             23.21           22.62           21.98   \n",
            "9           21.99             23.16           21.27           22.99   \n",
            "\n",
            "             8               9     ...            6606            6607  \\\n",
            "0      2023-04-13      2023-04-13  ...      2023-06-30      2023-06-30   \n",
            "1     2331000879D     2344000227D  ...     2334002233D     2348000664D   \n",
            "2         Germany              UK  ...        Slovenia          Poland   \n",
            "3  6Years 9Months  3Years 8Months  ...  8Years 8Months  3Years 7Months   \n",
            "4          Female          Female  ...          Female          Female   \n",
            "5            21.3            20.5  ...           16.33           17.18   \n",
            "6            23.2           25.07  ...           23.27           21.77   \n",
            "7           21.52           20.55  ...           19.28           20.33   \n",
            "8           24.55           20.39  ...           21.14           22.39   \n",
            "9           23.95           21.35  ...           17.81           19.57   \n",
            "\n",
            "             6608            6609            6610            6611  \\\n",
            "0      2023-06-30      2023-06-30      2023-06-30      2023-06-30   \n",
            "1     2331003597D     2331003185D     2331003447D     2334002232D   \n",
            "2         Belgium          Norway      Netherland        Slovenia   \n",
            "3  3Years 7Months  1Years 5Months  1Years 5Months  2Years 5Months   \n",
            "4          Female          Female          Female            Male   \n",
            "5           15.48           15.79           18.64           17.44   \n",
            "6           21.78           20.69           26.49           20.76   \n",
            "7           17.34           19.06           18.86           17.84   \n",
            "8           20.93           21.78           19.95           20.64   \n",
            "9           22.76           21.23           21.77           19.41   \n",
            "\n",
            "             6612            6613            6614            6615  \n",
            "0      2023-06-30      2023-06-30      2023-06-30      2023-06-30  \n",
            "1     2344000712D     2331003547D     2344000711D     2334002236D  \n",
            "2              UK      Netherland              UK           Spain  \n",
            "3  2Years 5Months  2Years 5Months  2Years 5Months  2Years 5Months  \n",
            "4            Male            Male            Male            Male  \n",
            "5           17.05           18.42           19.03           16.73  \n",
            "6           21.07           24.48            21.4           20.12  \n",
            "7           18.67           19.99           21.01            17.4  \n",
            "8           20.79           19.24           24.33           20.77  \n",
            "9           22.32           20.15            22.7           20.96  \n",
            "\n",
            "[10 rows x 6616 columns]\n"
          ]
        }
      ],
      "source": [
        "print(df.head(10))"
      ]
    },
    {
      "cell_type": "markdown",
      "metadata": {
        "id": "FGDpXLD4JKbf"
      },
      "source": [
        "### Splitting the Data:\n",
        "- As you can see, row 0 to 4 contains the metadata of the experiment\n",
        "- Row 5 to end contains the measured expression data of Allergens\n",
        "\n",
        "Now, we need to split the data into:\n",
        "- Metadata and\n",
        "- Expression data\n",
        "\n",
        "Check the documentation of the pandas method 'iloc'\n",
        "- Split the data, row 0 to 4 and assing it to a variable called: md\n",
        "- From row 5 to end, assing the expression data to a variable called: expr"
      ]
    },
    {
      "cell_type": "code",
      "execution_count": 7,
      "metadata": {
        "id": "GIfzdrCN95Q6"
      },
      "outputs": [
        {
          "name": "stdout",
          "output_type": "stream",
          "text": [
            "           0                1               2               3     \\\n",
            "0  Date of test       2023-04-13      2023-04-13      2023-04-13   \n",
            "1   Test number      2334000487D     2331000683D     2331000884D   \n",
            "2       Country            Spain      Netherland         Germany   \n",
            "3       Age Y/M  3Years 11Months  2Years 8Months  2Years 8Months   \n",
            "4           Sex           Female            Male            Male   \n",
            "\n",
            "             4                 5               6               7     \\\n",
            "0      2023-04-13        2023-04-13      2023-04-13      2023-04-13   \n",
            "1     2331000880D       2331000851D     2331001025D     2331000881D   \n",
            "2         Germany        Netherland          Sweden         Germany   \n",
            "3  7Years 9Months  11Years 11Months  4Years 8Months  1Years 9Months   \n",
            "4          Female              Male          Female            Male   \n",
            "\n",
            "             8               9     ...            6606            6607  \\\n",
            "0      2023-04-13      2023-04-13  ...      2023-06-30      2023-06-30   \n",
            "1     2331000879D     2344000227D  ...     2334002233D     2348000664D   \n",
            "2         Germany              UK  ...        Slovenia          Poland   \n",
            "3  6Years 9Months  3Years 8Months  ...  8Years 8Months  3Years 7Months   \n",
            "4          Female          Female  ...          Female          Female   \n",
            "\n",
            "             6608            6609            6610            6611  \\\n",
            "0      2023-06-30      2023-06-30      2023-06-30      2023-06-30   \n",
            "1     2331003597D     2331003185D     2331003447D     2334002232D   \n",
            "2         Belgium          Norway      Netherland        Slovenia   \n",
            "3  3Years 7Months  1Years 5Months  1Years 5Months  2Years 5Months   \n",
            "4          Female          Female          Female            Male   \n",
            "\n",
            "             6612            6613            6614            6615  \n",
            "0      2023-06-30      2023-06-30      2023-06-30      2023-06-30  \n",
            "1     2344000712D     2331003547D     2344000711D     2334002236D  \n",
            "2              UK      Netherland              UK           Spain  \n",
            "3  2Years 5Months  2Years 5Months  2Years 5Months  2Years 5Months  \n",
            "4            Male            Male            Male            Male  \n",
            "\n",
            "[5 rows x 6616 columns]\n"
          ]
        }
      ],
      "source": [
        "md = df.iloc[0:5,:]\n",
        "print(md)"
      ]
    },
    {
      "cell_type": "code",
      "execution_count": 8,
      "metadata": {
        "id": "q9C8YMSA_u54"
      },
      "outputs": [
        {
          "name": "stdout",
          "output_type": "stream",
          "text": [
            "              0      1      2      3      4      5      6      7      8     \\\n",
            "5            Cyn d   18.5  19.67  20.11  18.09  17.92  17.78  18.64   21.3   \n",
            "6         rCyn d 1  22.99  21.95  20.66  21.68  20.56  21.62  22.83   23.2   \n",
            "7            Dac g  19.15  19.57  21.78  18.37  18.12  19.35  19.95  21.52   \n",
            "8            Fes p  21.84   21.3  26.96  24.05  23.21  22.62  21.98  24.55   \n",
            "9         rLol p 1  22.33  22.23  22.59  21.99  23.16  21.27  22.99  23.95   \n",
            "..             ...    ...    ...    ...    ...    ...    ...    ...    ...   \n",
            "245         Sola t  22.05  22.33  22.33  21.61  21.85  20.94  19.71  21.27   \n",
            "246      rSola t 2  22.36  24.08  24.08  16.39  16.83  30.73  18.29   19.2   \n",
            "247  rSola t_GBSSI  23.43  24.02  24.02  19.78  20.01  24.56  23.26  21.62   \n",
            "248      rHom s LF  27.51  27.94  27.94  27.75  27.55   27.9  27.82  27.71   \n",
            "249        CCD-HSA     27  25.61  25.61  24.08  22.01  21.98  21.86  21.37   \n",
            "\n",
            "      9     ...   6606   6607   6608   6609   6610   6611   6612   6613  \\\n",
            "5     20.5  ...  16.33  17.18  15.48  15.79  18.64  17.44  17.05  18.42   \n",
            "6    25.07  ...  23.27  21.77  21.78  20.69  26.49  20.76  21.07  24.48   \n",
            "7    20.55  ...  19.28  20.33  17.34  19.06  18.86  17.84  18.67  19.99   \n",
            "8    20.39  ...  21.14  22.39  20.93  21.78  19.95  20.64  20.79  19.24   \n",
            "9    21.35  ...  17.81  19.57  22.76  21.23  21.77  19.41  22.32  20.15   \n",
            "..     ...  ...    ...    ...    ...    ...    ...    ...    ...    ...   \n",
            "245  18.76  ...  20.05  21.44   21.6  18.46  19.28  19.28  20.99  19.42   \n",
            "246  18.89  ...  17.37  19.06   19.1  18.23  16.97  16.97  19.72  19.35   \n",
            "247  21.01  ...  21.38   20.4  20.35  21.23  20.13  20.13  21.65  21.24   \n",
            "248  27.65  ...  16.05  15.96  15.85  15.76  15.76  15.76  15.66  15.55   \n",
            "249  21.24  ...  17.95  18.37  17.59  18.89  17.13  17.13  17.25  17.78   \n",
            "\n",
            "      6614   6615  \n",
            "5    19.03  16.73  \n",
            "6     21.4  20.12  \n",
            "7    21.01   17.4  \n",
            "8    24.33  20.77  \n",
            "9     22.7  20.96  \n",
            "..     ...    ...  \n",
            "245  19.89  18.79  \n",
            "246  17.84  16.53  \n",
            "247  20.97  19.07  \n",
            "248  15.44   14.9  \n",
            "249  17.76  16.76  \n",
            "\n",
            "[245 rows x 6616 columns]\n"
          ]
        }
      ],
      "source": [
        "expr = df.drop(df.columns[[0,1,2,3,4,]])\n",
        "print(expr)"
      ]
    },
    {
      "cell_type": "markdown",
      "metadata": {
        "id": "YP7i_N0vLXZl"
      },
      "source": [
        "### Print the 'shape' of each new table"
      ]
    },
    {
      "cell_type": "code",
      "execution_count": 9,
      "metadata": {
        "id": "ud1T07b-KXmM"
      },
      "outputs": [
        {
          "name": "stdout",
          "output_type": "stream",
          "text": [
            "(5, 6616)\n",
            "(245, 6616)\n"
          ]
        }
      ],
      "source": [
        "print(md.shape)\n",
        "print(expr.shape)"
      ]
    },
    {
      "cell_type": "markdown",
      "metadata": {
        "id": "uFK6FwvxMVtV"
      },
      "source": [
        "### Use the 'head' method to inspect the expr table\n"
      ]
    },
    {
      "cell_type": "code",
      "execution_count": 10,
      "metadata": {
        "id": "UFm5WkVVKiy0"
      },
      "outputs": [
        {
          "name": "stdout",
          "output_type": "stream",
          "text": [
            "<bound method NDFrame.head of               0      1      2      3      4      5      6      7      8     \\\n",
            "5            Cyn d   18.5  19.67  20.11  18.09  17.92  17.78  18.64   21.3   \n",
            "6         rCyn d 1  22.99  21.95  20.66  21.68  20.56  21.62  22.83   23.2   \n",
            "7            Dac g  19.15  19.57  21.78  18.37  18.12  19.35  19.95  21.52   \n",
            "8            Fes p  21.84   21.3  26.96  24.05  23.21  22.62  21.98  24.55   \n",
            "9         rLol p 1  22.33  22.23  22.59  21.99  23.16  21.27  22.99  23.95   \n",
            "..             ...    ...    ...    ...    ...    ...    ...    ...    ...   \n",
            "245         Sola t  22.05  22.33  22.33  21.61  21.85  20.94  19.71  21.27   \n",
            "246      rSola t 2  22.36  24.08  24.08  16.39  16.83  30.73  18.29   19.2   \n",
            "247  rSola t_GBSSI  23.43  24.02  24.02  19.78  20.01  24.56  23.26  21.62   \n",
            "248      rHom s LF  27.51  27.94  27.94  27.75  27.55   27.9  27.82  27.71   \n",
            "249        CCD-HSA     27  25.61  25.61  24.08  22.01  21.98  21.86  21.37   \n",
            "\n",
            "      9     ...   6606   6607   6608   6609   6610   6611   6612   6613  \\\n",
            "5     20.5  ...  16.33  17.18  15.48  15.79  18.64  17.44  17.05  18.42   \n",
            "6    25.07  ...  23.27  21.77  21.78  20.69  26.49  20.76  21.07  24.48   \n",
            "7    20.55  ...  19.28  20.33  17.34  19.06  18.86  17.84  18.67  19.99   \n",
            "8    20.39  ...  21.14  22.39  20.93  21.78  19.95  20.64  20.79  19.24   \n",
            "9    21.35  ...  17.81  19.57  22.76  21.23  21.77  19.41  22.32  20.15   \n",
            "..     ...  ...    ...    ...    ...    ...    ...    ...    ...    ...   \n",
            "245  18.76  ...  20.05  21.44   21.6  18.46  19.28  19.28  20.99  19.42   \n",
            "246  18.89  ...  17.37  19.06   19.1  18.23  16.97  16.97  19.72  19.35   \n",
            "247  21.01  ...  21.38   20.4  20.35  21.23  20.13  20.13  21.65  21.24   \n",
            "248  27.65  ...  16.05  15.96  15.85  15.76  15.76  15.76  15.66  15.55   \n",
            "249  21.24  ...  17.95  18.37  17.59  18.89  17.13  17.13  17.25  17.78   \n",
            "\n",
            "      6614   6615  \n",
            "5    19.03  16.73  \n",
            "6     21.4  20.12  \n",
            "7    21.01   17.4  \n",
            "8    24.33  20.77  \n",
            "9     22.7  20.96  \n",
            "..     ...    ...  \n",
            "245  19.89  18.79  \n",
            "246  17.84  16.53  \n",
            "247  20.97  19.07  \n",
            "248  15.44   14.9  \n",
            "249  17.76  16.76  \n",
            "\n",
            "[245 rows x 6616 columns]>\n"
          ]
        }
      ],
      "source": [
        "print(expr.head)"
      ]
    },
    {
      "cell_type": "markdown",
      "metadata": {
        "id": "6DLnuds7NaeC"
      },
      "source": [
        "As you can see column 0 contains the name of the Allergens\n",
        "\n",
        "- Set the Allergen names as the index of the table (similar to rownames in R)example:   'expr.index = ...'\n",
        "- 'drop' the column 0 and override the current variable"
      ]
    },
    {
      "cell_type": "code",
      "execution_count": 11,
      "metadata": {
        "id": "ZhLA3hNhMJCh"
      },
      "outputs": [
        {
          "name": "stdout",
          "output_type": "stream",
          "text": [
            "                        0      1      2      3      4      5      6      7     \\\n",
            "0                                                                               \n",
            "Cyn d                  Cyn d   18.5  19.67  20.11  18.09  17.92  17.78  18.64   \n",
            "rCyn d 1            rCyn d 1  22.99  21.95  20.66  21.68  20.56  21.62  22.83   \n",
            "Dac g                  Dac g  19.15  19.57  21.78  18.37  18.12  19.35  19.95   \n",
            "Fes p                  Fes p  21.84   21.3  26.96  24.05  23.21  22.62  21.98   \n",
            "rLol p 1            rLol p 1  22.33  22.23  22.59  21.99  23.16  21.27  22.99   \n",
            "...                      ...    ...    ...    ...    ...    ...    ...    ...   \n",
            "Sola t                Sola t  22.05  22.33  22.33  21.61  21.85  20.94  19.71   \n",
            "rSola t 2          rSola t 2  22.36  24.08  24.08  16.39  16.83  30.73  18.29   \n",
            "rSola t_GBSSI  rSola t_GBSSI  23.43  24.02  24.02  19.78  20.01  24.56  23.26   \n",
            "rHom s LF          rHom s LF  27.51  27.94  27.94  27.75  27.55   27.9  27.82   \n",
            "CCD-HSA              CCD-HSA     27  25.61  25.61  24.08  22.01  21.98  21.86   \n",
            "\n",
            "                8      9     ...   6606   6607   6608   6609   6610   6611  \\\n",
            "0                            ...                                             \n",
            "Cyn d           21.3   20.5  ...  16.33  17.18  15.48  15.79  18.64  17.44   \n",
            "rCyn d 1        23.2  25.07  ...  23.27  21.77  21.78  20.69  26.49  20.76   \n",
            "Dac g          21.52  20.55  ...  19.28  20.33  17.34  19.06  18.86  17.84   \n",
            "Fes p          24.55  20.39  ...  21.14  22.39  20.93  21.78  19.95  20.64   \n",
            "rLol p 1       23.95  21.35  ...  17.81  19.57  22.76  21.23  21.77  19.41   \n",
            "...              ...    ...  ...    ...    ...    ...    ...    ...    ...   \n",
            "Sola t         21.27  18.76  ...  20.05  21.44   21.6  18.46  19.28  19.28   \n",
            "rSola t 2       19.2  18.89  ...  17.37  19.06   19.1  18.23  16.97  16.97   \n",
            "rSola t_GBSSI  21.62  21.01  ...  21.38   20.4  20.35  21.23  20.13  20.13   \n",
            "rHom s LF      27.71  27.65  ...  16.05  15.96  15.85  15.76  15.76  15.76   \n",
            "CCD-HSA        21.37  21.24  ...  17.95  18.37  17.59  18.89  17.13  17.13   \n",
            "\n",
            "                6612   6613   6614   6615  \n",
            "0                                          \n",
            "Cyn d          17.05  18.42  19.03  16.73  \n",
            "rCyn d 1       21.07  24.48   21.4  20.12  \n",
            "Dac g          18.67  19.99  21.01   17.4  \n",
            "Fes p          20.79  19.24  24.33  20.77  \n",
            "rLol p 1       22.32  20.15   22.7  20.96  \n",
            "...              ...    ...    ...    ...  \n",
            "Sola t         20.99  19.42  19.89  18.79  \n",
            "rSola t 2      19.72  19.35  17.84  16.53  \n",
            "rSola t_GBSSI  21.65  21.24  20.97  19.07  \n",
            "rHom s LF      15.66  15.55  15.44   14.9  \n",
            "CCD-HSA        17.25  17.78  17.76  16.76  \n",
            "\n",
            "[245 rows x 6616 columns]\n"
          ]
        }
      ],
      "source": [
        "expr.index = expr[0]\n",
        "print(expr)\n"
      ]
    },
    {
      "cell_type": "code",
      "execution_count": 12,
      "metadata": {
        "id": "ZI85erLrNF_s"
      },
      "outputs": [
        {
          "name": "stdout",
          "output_type": "stream",
          "text": [
            "                1      2      3      4      5      6      7      8      9     \\\n",
            "0                                                                              \n",
            "Cyn d           18.5  19.67  20.11  18.09  17.92  17.78  18.64   21.3   20.5   \n",
            "rCyn d 1       22.99  21.95  20.66  21.68  20.56  21.62  22.83   23.2  25.07   \n",
            "Dac g          19.15  19.57  21.78  18.37  18.12  19.35  19.95  21.52  20.55   \n",
            "Fes p          21.84   21.3  26.96  24.05  23.21  22.62  21.98  24.55  20.39   \n",
            "rLol p 1       22.33  22.23  22.59  21.99  23.16  21.27  22.99  23.95  21.35   \n",
            "...              ...    ...    ...    ...    ...    ...    ...    ...    ...   \n",
            "Sola t         22.05  22.33  22.33  21.61  21.85  20.94  19.71  21.27  18.76   \n",
            "rSola t 2      22.36  24.08  24.08  16.39  16.83  30.73  18.29   19.2  18.89   \n",
            "rSola t_GBSSI  23.43  24.02  24.02  19.78  20.01  24.56  23.26  21.62  21.01   \n",
            "rHom s LF      27.51  27.94  27.94  27.75  27.55   27.9  27.82  27.71  27.65   \n",
            "CCD-HSA           27  25.61  25.61  24.08  22.01  21.98  21.86  21.37  21.24   \n",
            "\n",
            "                10    ...   6606   6607   6608   6609   6610   6611   6612  \\\n",
            "0                     ...                                                    \n",
            "Cyn d          17.64  ...  16.33  17.18  15.48  15.79  18.64  17.44  17.05   \n",
            "rCyn d 1       22.32  ...  23.27  21.77  21.78  20.69  26.49  20.76  21.07   \n",
            "Dac g          19.35  ...  19.28  20.33  17.34  19.06  18.86  17.84  18.67   \n",
            "Fes p          22.08  ...  21.14  22.39  20.93  21.78  19.95  20.64  20.79   \n",
            "rLol p 1       22.06  ...  17.81  19.57  22.76  21.23  21.77  19.41  22.32   \n",
            "...              ...  ...    ...    ...    ...    ...    ...    ...    ...   \n",
            "Sola t         18.76  ...  20.05  21.44   21.6  18.46  19.28  19.28  20.99   \n",
            "rSola t 2      18.89  ...  17.37  19.06   19.1  18.23  16.97  16.97  19.72   \n",
            "rSola t_GBSSI  21.01  ...  21.38   20.4  20.35  21.23  20.13  20.13  21.65   \n",
            "rHom s LF      27.65  ...  16.05  15.96  15.85  15.76  15.76  15.76  15.66   \n",
            "CCD-HSA        21.24  ...  17.95  18.37  17.59  18.89  17.13  17.13  17.25   \n",
            "\n",
            "                6613   6614   6615  \n",
            "0                                   \n",
            "Cyn d          18.42  19.03  16.73  \n",
            "rCyn d 1       24.48   21.4  20.12  \n",
            "Dac g          19.99  21.01   17.4  \n",
            "Fes p          19.24  24.33  20.77  \n",
            "rLol p 1       20.15   22.7  20.96  \n",
            "...              ...    ...    ...  \n",
            "Sola t         19.42  19.89  18.79  \n",
            "rSola t 2      19.35  17.84  16.53  \n",
            "rSola t_GBSSI  21.24  20.97  19.07  \n",
            "rHom s LF      15.55  15.44   14.9  \n",
            "CCD-HSA        17.78  17.76  16.76  \n",
            "\n",
            "[245 rows x 6615 columns]\n"
          ]
        }
      ],
      "source": [
        "expr = expr.drop(columns=[0])\n",
        "print(expr)"
      ]
    },
    {
      "cell_type": "markdown",
      "metadata": {
        "id": "ePM108KeRjfe"
      },
      "source": [
        "### Cleaning the Metadata\n",
        "- Use 'head' to look into the metadata\n",
        "Note that we want to use the rows as columns, therefore:\n",
        "- Transpose the metadata\n",
        "- Change the table: row 0 should be the column names"
      ]
    },
    {
      "cell_type": "code",
      "execution_count": 13,
      "metadata": {
        "id": "8L0bNeDfdpKN"
      },
      "outputs": [
        {
          "name": "stdout",
          "output_type": "stream",
          "text": [
            "<bound method NDFrame.head of            0                1               2               3     \\\n",
            "0  Date of test       2023-04-13      2023-04-13      2023-04-13   \n",
            "1   Test number      2334000487D     2331000683D     2331000884D   \n",
            "2       Country            Spain      Netherland         Germany   \n",
            "3       Age Y/M  3Years 11Months  2Years 8Months  2Years 8Months   \n",
            "4           Sex           Female            Male            Male   \n",
            "\n",
            "             4                 5               6               7     \\\n",
            "0      2023-04-13        2023-04-13      2023-04-13      2023-04-13   \n",
            "1     2331000880D       2331000851D     2331001025D     2331000881D   \n",
            "2         Germany        Netherland          Sweden         Germany   \n",
            "3  7Years 9Months  11Years 11Months  4Years 8Months  1Years 9Months   \n",
            "4          Female              Male          Female            Male   \n",
            "\n",
            "             8               9     ...            6606            6607  \\\n",
            "0      2023-04-13      2023-04-13  ...      2023-06-30      2023-06-30   \n",
            "1     2331000879D     2344000227D  ...     2334002233D     2348000664D   \n",
            "2         Germany              UK  ...        Slovenia          Poland   \n",
            "3  6Years 9Months  3Years 8Months  ...  8Years 8Months  3Years 7Months   \n",
            "4          Female          Female  ...          Female          Female   \n",
            "\n",
            "             6608            6609            6610            6611  \\\n",
            "0      2023-06-30      2023-06-30      2023-06-30      2023-06-30   \n",
            "1     2331003597D     2331003185D     2331003447D     2334002232D   \n",
            "2         Belgium          Norway      Netherland        Slovenia   \n",
            "3  3Years 7Months  1Years 5Months  1Years 5Months  2Years 5Months   \n",
            "4          Female          Female          Female            Male   \n",
            "\n",
            "             6612            6613            6614            6615  \n",
            "0      2023-06-30      2023-06-30      2023-06-30      2023-06-30  \n",
            "1     2344000712D     2331003547D     2344000711D     2334002236D  \n",
            "2              UK      Netherland              UK           Spain  \n",
            "3  2Years 5Months  2Years 5Months  2Years 5Months  2Years 5Months  \n",
            "4            Male            Male            Male            Male  \n",
            "\n",
            "[5 rows x 6616 columns]>\n"
          ]
        }
      ],
      "source": [
        "print(md.head)"
      ]
    },
    {
      "cell_type": "code",
      "execution_count": 14,
      "metadata": {
        "id": "YtnioXHEQWPX"
      },
      "outputs": [
        {
          "name": "stdout",
          "output_type": "stream",
          "text": [
            "                 0            1           2                3       4\n",
            "0     Date of test  Test number     Country          Age Y/M     Sex\n",
            "1       2023-04-13  2334000487D       Spain  3Years 11Months  Female\n",
            "2       2023-04-13  2331000683D  Netherland   2Years 8Months    Male\n",
            "3       2023-04-13  2331000884D     Germany   2Years 8Months    Male\n",
            "4       2023-04-13  2331000880D     Germany   7Years 9Months  Female\n",
            "...            ...          ...         ...              ...     ...\n",
            "6611    2023-06-30  2334002232D    Slovenia   2Years 5Months    Male\n",
            "6612    2023-06-30  2344000712D          UK   2Years 5Months    Male\n",
            "6613    2023-06-30  2331003547D  Netherland   2Years 5Months    Male\n",
            "6614    2023-06-30  2344000711D          UK   2Years 5Months    Male\n",
            "6615    2023-06-30  2334002236D       Spain   2Years 5Months    Male\n",
            "\n",
            "[6616 rows x 5 columns]\n"
          ]
        }
      ],
      "source": [
        "md=md.T\n",
        "print(md)"
      ]
    },
    {
      "cell_type": "code",
      "execution_count": 15,
      "metadata": {
        "id": "NNVU0oJpSF7O"
      },
      "outputs": [
        {
          "name": "stdout",
          "output_type": "stream",
          "text": [
            "0     Date of test  Test number     Country          Age Y/M     Sex\n",
            "0     Date of test  Test number     Country          Age Y/M     Sex\n",
            "1       2023-04-13  2334000487D       Spain  3Years 11Months  Female\n",
            "2       2023-04-13  2331000683D  Netherland   2Years 8Months    Male\n",
            "3       2023-04-13  2331000884D     Germany   2Years 8Months    Male\n",
            "4       2023-04-13  2331000880D     Germany   7Years 9Months  Female\n",
            "...            ...          ...         ...              ...     ...\n",
            "6611    2023-06-30  2334002232D    Slovenia   2Years 5Months    Male\n",
            "6612    2023-06-30  2344000712D          UK   2Years 5Months    Male\n",
            "6613    2023-06-30  2331003547D  Netherland   2Years 5Months    Male\n",
            "6614    2023-06-30  2344000711D          UK   2Years 5Months    Male\n",
            "6615    2023-06-30  2334002236D       Spain   2Years 5Months    Male\n",
            "\n",
            "[6616 rows x 5 columns]\n"
          ]
        }
      ],
      "source": [
        "md.columns=md.iloc[0]\n",
        "print(md)"
      ]
    },
    {
      "cell_type": "markdown",
      "metadata": {
        "id": "j9JPHcgcetB4"
      },
      "source": [
        "- Make sure to remove the first row, which now has become the column names"
      ]
    },
    {
      "cell_type": "code",
      "execution_count": 16,
      "metadata": {
        "id": "gLl-NPoxSiuv"
      },
      "outputs": [
        {
          "name": "stdout",
          "output_type": "stream",
          "text": [
            "0    Date of test  Test number     Country           Age Y/M     Sex\n",
            "1      2023-04-13  2334000487D       Spain   3Years 11Months  Female\n",
            "2      2023-04-13  2331000683D  Netherland    2Years 8Months    Male\n",
            "3      2023-04-13  2331000884D     Germany    2Years 8Months    Male\n",
            "4      2023-04-13  2331000880D     Germany    7Years 9Months  Female\n",
            "5      2023-04-13  2331000851D  Netherland  11Years 11Months    Male\n",
            "...           ...          ...         ...               ...     ...\n",
            "6611   2023-06-30  2334002232D    Slovenia    2Years 5Months    Male\n",
            "6612   2023-06-30  2344000712D          UK    2Years 5Months    Male\n",
            "6613   2023-06-30  2331003547D  Netherland    2Years 5Months    Male\n",
            "6614   2023-06-30  2344000711D          UK    2Years 5Months    Male\n",
            "6615   2023-06-30  2334002236D       Spain    2Years 5Months    Male\n",
            "\n",
            "[6615 rows x 5 columns]\n"
          ]
        }
      ],
      "source": [
        "md = md.drop(index=0)\n",
        "print(md)"
      ]
    },
    {
      "cell_type": "markdown",
      "metadata": {
        "id": "UCIywvdoe8dt"
      },
      "source": [
        "### Use 'head' to inspect your table and make sure it looks as below:\n",
        "\n",
        "\tDate of test Test number\tCountry\tAge Y/M**\n",
        "\n",
        "1\t2023-04-13\t2334000487D\tSpain\t3Years 11Months\n",
        "\n",
        "2\t2023-04-13\t2331000683D\tNetherland\t2Years 8Months\n",
        "\n",
        "3\t2023-04-13\t2331000884D\tGermany\t2Years 8Months\n",
        "\n",
        "4\t2023-04-13\t2331000880D\tGermany\t7Years 9Months\n",
        "\n",
        "5\t2023-04-13\t2331000851D\tNetherland\t11Years 11Months"
      ]
    },
    {
      "cell_type": "code",
      "execution_count": 17,
      "metadata": {
        "id": "kbloxM7FWPlc"
      },
      "outputs": [
        {
          "data": {
            "text/plain": [
              "<bound method NDFrame.head of 0    Date of test  Test number     Country           Age Y/M     Sex\n",
              "1      2023-04-13  2334000487D       Spain   3Years 11Months  Female\n",
              "2      2023-04-13  2331000683D  Netherland    2Years 8Months    Male\n",
              "3      2023-04-13  2331000884D     Germany    2Years 8Months    Male\n",
              "4      2023-04-13  2331000880D     Germany    7Years 9Months  Female\n",
              "5      2023-04-13  2331000851D  Netherland  11Years 11Months    Male\n",
              "...           ...          ...         ...               ...     ...\n",
              "6611   2023-06-30  2334002232D    Slovenia    2Years 5Months    Male\n",
              "6612   2023-06-30  2344000712D          UK    2Years 5Months    Male\n",
              "6613   2023-06-30  2331003547D  Netherland    2Years 5Months    Male\n",
              "6614   2023-06-30  2344000711D          UK    2Years 5Months    Male\n",
              "6615   2023-06-30  2334002236D       Spain    2Years 5Months    Male\n",
              "\n",
              "[6615 rows x 5 columns]>"
            ]
          },
          "execution_count": 17,
          "metadata": {},
          "output_type": "execute_result"
        }
      ],
      "source": [
        "md.head"
      ]
    },
    {
      "cell_type": "markdown",
      "metadata": {
        "id": "-fM9HLLNZXNi"
      },
      "source": [
        "### Rename the Metadata columns\n",
        "- rename the columns 'Date of test' to 'Date', 'Test number' to 'TestID' and 'Age Y/M' to 'Age (M)'"
      ]
    },
    {
      "cell_type": "code",
      "execution_count": 18,
      "metadata": {
        "id": "_LWmnfKCtH0i"
      },
      "outputs": [
        {
          "name": "stdout",
          "output_type": "stream",
          "text": [
            "0           Date       TestID     Country           Age (M)     Sex\n",
            "1     2023-04-13  2334000487D       Spain   3Years 11Months  Female\n",
            "2     2023-04-13  2331000683D  Netherland    2Years 8Months    Male\n",
            "3     2023-04-13  2331000884D     Germany    2Years 8Months    Male\n",
            "4     2023-04-13  2331000880D     Germany    7Years 9Months  Female\n",
            "5     2023-04-13  2331000851D  Netherland  11Years 11Months    Male\n",
            "...          ...          ...         ...               ...     ...\n",
            "6611  2023-06-30  2334002232D    Slovenia    2Years 5Months    Male\n",
            "6612  2023-06-30  2344000712D          UK    2Years 5Months    Male\n",
            "6613  2023-06-30  2331003547D  Netherland    2Years 5Months    Male\n",
            "6614  2023-06-30  2344000711D          UK    2Years 5Months    Male\n",
            "6615  2023-06-30  2334002236D       Spain    2Years 5Months    Male\n",
            "\n",
            "[6615 rows x 5 columns]\n"
          ]
        }
      ],
      "source": [
        "md = md.rename(columns={'Date of test':'Date','Test number':'TestID','Age Y/M':'Age (M)'})\n",
        "print(md)"
      ]
    },
    {
      "cell_type": "markdown",
      "metadata": {
        "id": "5b6bsj-atFuq"
      },
      "source": [
        "### Convert the Age column\n",
        "The function below converts a string into a number of total month e.g.:\n",
        "\n",
        "\"2Years 8Months\" convert to 32.0\n",
        "\n",
        "- use the below function to convert each 'string' from the Age column into a number (float)\n",
        "- Hint: check the function '.apply(convert_to_month)' which works on a dataframe column"
      ]
    },
    {
      "cell_type": "code",
      "execution_count": 20,
      "metadata": {
        "id": "qb0qxwYabnxg"
      },
      "outputs": [],
      "source": [
        "import re\n",
        "\n",
        "def convert_to_months(duration_str):\n",
        "        # Check for missing or empty entries\n",
        "    if pd.isnull(duration_str) or duration_str.strip() == \"\":\n",
        "        return None\n",
        "\n",
        "\n",
        "    # Regular expression to find years and months in the input string\n",
        "    year_pattern = re.compile(r\"(\\d+)\\s*Years?\")\n",
        "    month_pattern = re.compile(r\"(\\d+)\\s*Months?\")\n",
        "\n",
        "    # Search for years and months in the input string\n",
        "    years_match = year_pattern.search(duration_str)\n",
        "    months_match = month_pattern.search(duration_str)\n",
        "\n",
        "    # Extract years and months from the matches\n",
        "    years = int(years_match.group(1)) if years_match else 0\n",
        "    months = int(months_match.group(1)) if months_match else 0\n",
        "\n",
        "    # Convert years to months and add to months\n",
        "    total_months = (years * 12) + months\n",
        "\n",
        "    return int(total_months)\n"
      ]
    },
    {
      "cell_type": "code",
      "execution_count": 21,
      "metadata": {
        "id": "Tmqa7N1Dc72Q"
      },
      "outputs": [],
      "source": [
        "# convert md['Age (M)'] to number\n",
        "# write your code here:\n",
        "\n",
        "\n",
        "md['Age (M)']=md['Age (M)'].apply(convert_to_months)"
      ]
    },
    {
      "cell_type": "markdown",
      "metadata": {
        "id": "uG_SBjqjt8pg"
      },
      "source": [
        "Check the result with 'head'"
      ]
    },
    {
      "cell_type": "code",
      "execution_count": 22,
      "metadata": {
        "id": "ATSXGe5IfEaD"
      },
      "outputs": [
        {
          "data": {
            "text/plain": [
              "<bound method NDFrame.head of 0           Date       TestID     Country  Age (M)     Sex\n",
              "1     2023-04-13  2334000487D       Spain     47.0  Female\n",
              "2     2023-04-13  2331000683D  Netherland     32.0    Male\n",
              "3     2023-04-13  2331000884D     Germany     32.0    Male\n",
              "4     2023-04-13  2331000880D     Germany     93.0  Female\n",
              "5     2023-04-13  2331000851D  Netherland    143.0    Male\n",
              "...          ...          ...         ...      ...     ...\n",
              "6611  2023-06-30  2334002232D    Slovenia     29.0    Male\n",
              "6612  2023-06-30  2344000712D          UK     29.0    Male\n",
              "6613  2023-06-30  2331003547D  Netherland     29.0    Male\n",
              "6614  2023-06-30  2344000711D          UK     29.0    Male\n",
              "6615  2023-06-30  2334002236D       Spain     29.0    Male\n",
              "\n",
              "[6615 rows x 5 columns]>"
            ]
          },
          "execution_count": 22,
          "metadata": {},
          "output_type": "execute_result"
        }
      ],
      "source": [
        "md.head"
      ]
    },
    {
      "cell_type": "markdown",
      "metadata": {
        "id": "sY4MxunMXKIn"
      },
      "source": [
        "### Rename the columns of expr\n",
        "- use the Test Number from md['Test number'] as new column names for the expr data"
      ]
    },
    {
      "cell_type": "code",
      "execution_count": 23,
      "metadata": {
        "id": "IYVz2rJDWV8L"
      },
      "outputs": [
        {
          "name": "stdout",
          "output_type": "stream",
          "text": [
            "TestID        2334000487D 2331000683D 2331000884D 2331000880D 2331000851D  \\\n",
            "0                                                                           \n",
            "Cyn d                18.5       19.67       20.11       18.09       17.92   \n",
            "rCyn d 1            22.99       21.95       20.66       21.68       20.56   \n",
            "Dac g               19.15       19.57       21.78       18.37       18.12   \n",
            "Fes p               21.84        21.3       26.96       24.05       23.21   \n",
            "rLol p 1            22.33       22.23       22.59       21.99       23.16   \n",
            "...                   ...         ...         ...         ...         ...   \n",
            "Sola t              22.05       22.33       22.33       21.61       21.85   \n",
            "rSola t 2           22.36       24.08       24.08       16.39       16.83   \n",
            "rSola t_GBSSI       23.43       24.02       24.02       19.78       20.01   \n",
            "rHom s LF           27.51       27.94       27.94       27.75       27.55   \n",
            "CCD-HSA                27       25.61       25.61       24.08       22.01   \n",
            "\n",
            "TestID        2331001025D 2331000881D 2331000879D 2344000227D 2334000522D  \\\n",
            "0                                                                           \n",
            "Cyn d               17.78       18.64        21.3        20.5       17.64   \n",
            "rCyn d 1            21.62       22.83        23.2       25.07       22.32   \n",
            "Dac g               19.35       19.95       21.52       20.55       19.35   \n",
            "Fes p               22.62       21.98       24.55       20.39       22.08   \n",
            "rLol p 1            21.27       22.99       23.95       21.35       22.06   \n",
            "...                   ...         ...         ...         ...         ...   \n",
            "Sola t              20.94       19.71       21.27       18.76       18.76   \n",
            "rSola t 2           30.73       18.29        19.2       18.89       18.89   \n",
            "rSola t_GBSSI       24.56       23.26       21.62       21.01       21.01   \n",
            "rHom s LF            27.9       27.82       27.71       27.65       27.65   \n",
            "CCD-HSA             21.98       21.86       21.37       21.24       21.24   \n",
            "\n",
            "TestID         ... 2334002233D 2348000664D 2331003597D 2331003185D  \\\n",
            "0              ...                                                   \n",
            "Cyn d          ...       16.33       17.18       15.48       15.79   \n",
            "rCyn d 1       ...       23.27       21.77       21.78       20.69   \n",
            "Dac g          ...       19.28       20.33       17.34       19.06   \n",
            "Fes p          ...       21.14       22.39       20.93       21.78   \n",
            "rLol p 1       ...       17.81       19.57       22.76       21.23   \n",
            "...            ...         ...         ...         ...         ...   \n",
            "Sola t         ...       20.05       21.44        21.6       18.46   \n",
            "rSola t 2      ...       17.37       19.06        19.1       18.23   \n",
            "rSola t_GBSSI  ...       21.38        20.4       20.35       21.23   \n",
            "rHom s LF      ...       16.05       15.96       15.85       15.76   \n",
            "CCD-HSA        ...       17.95       18.37       17.59       18.89   \n",
            "\n",
            "TestID        2331003447D 2334002232D 2344000712D 2331003547D 2344000711D  \\\n",
            "0                                                                           \n",
            "Cyn d               18.64       17.44       17.05       18.42       19.03   \n",
            "rCyn d 1            26.49       20.76       21.07       24.48        21.4   \n",
            "Dac g               18.86       17.84       18.67       19.99       21.01   \n",
            "Fes p               19.95       20.64       20.79       19.24       24.33   \n",
            "rLol p 1            21.77       19.41       22.32       20.15        22.7   \n",
            "...                   ...         ...         ...         ...         ...   \n",
            "Sola t              19.28       19.28       20.99       19.42       19.89   \n",
            "rSola t 2           16.97       16.97       19.72       19.35       17.84   \n",
            "rSola t_GBSSI       20.13       20.13       21.65       21.24       20.97   \n",
            "rHom s LF           15.76       15.76       15.66       15.55       15.44   \n",
            "CCD-HSA             17.13       17.13       17.25       17.78       17.76   \n",
            "\n",
            "TestID        2334002236D  \n",
            "0                          \n",
            "Cyn d               16.73  \n",
            "rCyn d 1            20.12  \n",
            "Dac g                17.4  \n",
            "Fes p               20.77  \n",
            "rLol p 1            20.96  \n",
            "...                   ...  \n",
            "Sola t              18.79  \n",
            "rSola t 2           16.53  \n",
            "rSola t_GBSSI       19.07  \n",
            "rHom s LF            14.9  \n",
            "CCD-HSA             16.76  \n",
            "\n",
            "[245 rows x 6615 columns]\n"
          ]
        }
      ],
      "source": [
        "expr.columns = md['TestID']\n",
        "print(expr)"
      ]
    },
    {
      "cell_type": "markdown",
      "metadata": {
        "id": "rDGDdLM8XphK"
      },
      "source": [
        "### Print the shapes of both tables\n",
        "- check if the number of columns in expr matches the number of rows in md"
      ]
    },
    {
      "cell_type": "code",
      "execution_count": 24,
      "metadata": {},
      "outputs": [
        {
          "name": "stdout",
          "output_type": "stream",
          "text": [
            "(245, 6615)\n",
            "(6615, 5)\n"
          ]
        }
      ],
      "source": [
        "print(expr.shape)\n",
        "print(md.shape)"
      ]
    },
    {
      "cell_type": "markdown",
      "metadata": {
        "id": "nOLYa7r6fk2t"
      },
      "source": [
        "### Dropping duplicates and keep='first'"
      ]
    },
    {
      "cell_type": "code",
      "execution_count": 25,
      "metadata": {
        "id": "e7XyxZV5SHBb"
      },
      "outputs": [
        {
          "data": {
            "text/plain": [
              "1       False\n",
              "2       False\n",
              "3       False\n",
              "4       False\n",
              "5       False\n",
              "        ...  \n",
              "6611    False\n",
              "6612    False\n",
              "6613     True\n",
              "6614    False\n",
              "6615    False\n",
              "Name: TestID, Length: 6615, dtype: bool"
            ]
          },
          "execution_count": 25,
          "metadata": {},
          "output_type": "execute_result"
        }
      ],
      "source": [
        "# This function can be use to inspect if there a duplictes within a column\n",
        "md['TestID'].duplicated()"
      ]
    },
    {
      "cell_type": "code",
      "execution_count": 28,
      "metadata": {
        "id": "bEKgsnPafkRb"
      },
      "outputs": [
        {
          "name": "stdout",
          "output_type": "stream",
          "text": [
            "(5814, 5)\n"
          ]
        }
      ],
      "source": [
        "# remove duplicate values in TestID column\n",
        "# Hint: check the function: 'drop_duplicates'\n",
        "# Hint: use the parameter 'keep='first'' to keep the first occurance and remove following duplicates\n",
        "md = md.drop_duplicates(subset='TestID',keep='first')\n",
        "print(md.shape)"
      ]
    },
    {
      "cell_type": "markdown",
      "metadata": {
        "id": "CjgXThY1f8FS"
      },
      "source": [
        "### Don't forget to drop the duplicates on the expression data as well:"
      ]
    },
    {
      "cell_type": "code",
      "execution_count": 29,
      "metadata": {
        "id": "_9b1mQlLgHOe"
      },
      "outputs": [
        {
          "name": "stdout",
          "output_type": "stream",
          "text": [
            "(245, 5814)\n"
          ]
        }
      ],
      "source": [
        "# example:\n",
        "\n",
        "# df = df.loc[:, ~df.columns.duplicated()]\n",
        "\n",
        "# where df.columns.duplicated(): returns a boolean array of duplicates\n",
        "# ~ negates the boolean values: True is False and False is True\n",
        "expr = expr.loc[:, ~expr.columns.duplicated()]\n",
        "print(expr.shape)"
      ]
    },
    {
      "cell_type": "markdown",
      "metadata": {
        "id": "ilTwsoAtiJxc"
      },
      "source": [
        "### Print the shapes of both table and make sure the number of rows in md and the number of columns in expr are matching"
      ]
    },
    {
      "cell_type": "markdown",
      "metadata": {
        "id": "3J5PXgF6JDmz"
      },
      "source": [
        "### Saving the DATA\n",
        "After initial cleaning, let's save the data in its current form:\n",
        "- save both tables as csv file in the current directory"
      ]
    },
    {
      "cell_type": "code",
      "execution_count": 30,
      "metadata": {
        "id": "7XaJwznRJisK"
      },
      "outputs": [],
      "source": [
        "md.to_csv('metadata')\n",
        "expr.to_csv('expression_data')"
      ]
    },
    {
      "cell_type": "markdown",
      "metadata": {
        "id": "gMFOzMKyM4_0"
      },
      "source": [
        "### Subsetting the data\n",
        "- subset the metadata and expression data to county = 'Spain'\n",
        "\n",
        "Hint: use the TestID on the filtered data to subset on the expression data"
      ]
    },
    {
      "cell_type": "code",
      "execution_count": 33,
      "metadata": {
        "id": "_eFTKBZGNMgI"
      },
      "outputs": [],
      "source": [
        "md_spain = md.loc[md.Country == 'Spain', :]\n",
        "\n",
        "testIdSpain = md.TestID[md.Country == 'Spain']\n",
        "\n",
        "expr_spain = expr.loc[:,testIdSpain]"
      ]
    },
    {
      "cell_type": "markdown",
      "metadata": {
        "id": "jlFeuh7lwT5G"
      },
      "source": [
        "- Print the shapes to check the result"
      ]
    },
    {
      "cell_type": "code",
      "execution_count": 34,
      "metadata": {
        "id": "bU2obVLnPZiH"
      },
      "outputs": [
        {
          "name": "stdout",
          "output_type": "stream",
          "text": [
            "(522, 5)\n",
            "(245, 522)\n"
          ]
        }
      ],
      "source": [
        "print(md_spain.shape)\n",
        "print(expr_spain.shape)"
      ]
    },
    {
      "cell_type": "markdown",
      "metadata": {
        "id": "N9F2SKGsKHB_"
      },
      "source": [
        "# Exploration of the expression data\n",
        "To gain an initial understanding of the expression data, we need to filter out the noise. Currently, noise is defined as values below 30.\n",
        "\n",
        "- Convert the expr dataframe into a numpy array\n",
        "- Set values below 30 to 0.0\n",
        "\n",
        "Remove rows were all values are 0\n",
        "- use the 'sum' method (axsis = 1) to the the sums of each row\n",
        "- use this rowsum values to subset the array"
      ]
    },
    {
      "cell_type": "code",
      "execution_count": 35,
      "metadata": {
        "id": "oL1ccxGwKAvi"
      },
      "outputs": [],
      "source": [
        "# Convert to numpy\n",
        "expr_numpy = expr.to_numpy()\n"
      ]
    },
    {
      "cell_type": "code",
      "execution_count": 37,
      "metadata": {},
      "outputs": [
        {
          "name": "stdout",
          "output_type": "stream",
          "text": [
            "[[18.5 19.67 20.11 ... 17.05 19.03 16.73]\n",
            " [22.99 21.95 20.66 ... 21.07 21.4 20.12]\n",
            " [19.15 19.57 21.78 ... 18.67 21.01 17.4]\n",
            " ...\n",
            " [23.43 24.02 24.02 ... 21.65 20.97 19.07]\n",
            " [27.51 27.94 27.94 ... 15.66 15.44 14.9]\n",
            " [27 25.61 25.61 ... 17.25 17.76 16.76]]\n",
            "(245, 5814)\n"
          ]
        }
      ],
      "source": [
        "print(expr_numpy)\n"
      ]
    },
    {
      "cell_type": "code",
      "execution_count": 38,
      "metadata": {
        "id": "pveqaIH8LJhH"
      },
      "outputs": [
        {
          "name": "stdout",
          "output_type": "stream",
          "text": [
            "(245, 5814)\n"
          ]
        }
      ],
      "source": [
        "# Set values below 30 to 0\n",
        "# Hint:\n",
        "# 'my_array < value' will return a boolean array which can be used\n",
        "expr_numpy[expr_numpy<30]=0\n"
      ]
    },
    {
      "cell_type": "code",
      "execution_count": 40,
      "metadata": {
        "id": "5RgqJExRQLfh"
      },
      "outputs": [],
      "source": [
        "# Calculate row sums\n",
        "\n",
        "sum=np.sum(expr_numpy, axis=1)\n",
        "# Filter rows where the sum is not 0\n",
        "expr_numpy_pos =expr_numpy[sum !=0]\n"
      ]
    },
    {
      "cell_type": "code",
      "execution_count": 42,
      "metadata": {},
      "outputs": [
        {
          "name": "stdout",
          "output_type": "stream",
          "text": [
            "(245, 5814)\n",
            "(240, 5814)\n"
          ]
        }
      ],
      "source": [
        "print(expr_numpy.shape)\n",
        "print(expr_numpy_pos.shape)"
      ]
    },
    {
      "cell_type": "markdown",
      "metadata": {
        "id": "x3L9CpZ2L-Ek"
      },
      "source": [
        "### Visualize the Expression Data\n",
        "\n",
        "The follwing code is provided. Just make sure you replace the names of the variables with your variable names."
      ]
    },
    {
      "cell_type": "code",
      "execution_count": 46,
      "metadata": {},
      "outputs": [
        {
          "name": "stdout",
          "output_type": "stream",
          "text": [
            "Requirement already satisfied: seaborn in c:\\users\\tbohm\\appdata\\local\\miniconda3\\lib\\site-packages (0.13.2)\n",
            "Requirement already satisfied: numpy!=1.24.0,>=1.20 in c:\\users\\tbohm\\appdata\\local\\miniconda3\\lib\\site-packages (from seaborn) (1.26.4)\n",
            "Requirement already satisfied: pandas>=1.2 in c:\\users\\tbohm\\appdata\\local\\miniconda3\\lib\\site-packages (from seaborn) (2.2.2)\n",
            "Requirement already satisfied: matplotlib!=3.6.1,>=3.4 in c:\\users\\tbohm\\appdata\\local\\miniconda3\\lib\\site-packages (from seaborn) (3.9.1)\n",
            "Requirement already satisfied: contourpy>=1.0.1 in c:\\users\\tbohm\\appdata\\local\\miniconda3\\lib\\site-packages (from matplotlib!=3.6.1,>=3.4->seaborn) (1.2.1)\n",
            "Requirement already satisfied: cycler>=0.10 in c:\\users\\tbohm\\appdata\\local\\miniconda3\\lib\\site-packages (from matplotlib!=3.6.1,>=3.4->seaborn) (0.12.1)\n",
            "Requirement already satisfied: fonttools>=4.22.0 in c:\\users\\tbohm\\appdata\\local\\miniconda3\\lib\\site-packages (from matplotlib!=3.6.1,>=3.4->seaborn) (4.53.1)\n",
            "Requirement already satisfied: kiwisolver>=1.3.1 in c:\\users\\tbohm\\appdata\\local\\miniconda3\\lib\\site-packages (from matplotlib!=3.6.1,>=3.4->seaborn) (1.4.5)\n",
            "Requirement already satisfied: packaging>=20.0 in c:\\users\\tbohm\\appdata\\local\\miniconda3\\lib\\site-packages (from matplotlib!=3.6.1,>=3.4->seaborn) (23.2)\n",
            "Requirement already satisfied: pillow>=8 in c:\\users\\tbohm\\appdata\\local\\miniconda3\\lib\\site-packages (from matplotlib!=3.6.1,>=3.4->seaborn) (10.4.0)\n",
            "Requirement already satisfied: pyparsing>=2.3.1 in c:\\users\\tbohm\\appdata\\local\\miniconda3\\lib\\site-packages (from matplotlib!=3.6.1,>=3.4->seaborn) (3.1.2)\n",
            "Requirement already satisfied: python-dateutil>=2.7 in c:\\users\\tbohm\\appdata\\local\\miniconda3\\lib\\site-packages (from matplotlib!=3.6.1,>=3.4->seaborn) (2.9.0)\n",
            "Requirement already satisfied: pytz>=2020.1 in c:\\users\\tbohm\\appdata\\local\\miniconda3\\lib\\site-packages (from pandas>=1.2->seaborn) (2024.1)\n",
            "Requirement already satisfied: tzdata>=2022.7 in c:\\users\\tbohm\\appdata\\local\\miniconda3\\lib\\site-packages (from pandas>=1.2->seaborn) (2024.1)\n",
            "Requirement already satisfied: six>=1.5 in c:\\users\\tbohm\\appdata\\local\\miniconda3\\lib\\site-packages (from python-dateutil>=2.7->matplotlib!=3.6.1,>=3.4->seaborn) (1.16.0)\n",
            "Collecting scikit-learn\n",
            "  Downloading scikit_learn-1.5.1-cp312-cp312-win_amd64.whl.metadata (12 kB)\n",
            "Requirement already satisfied: numpy>=1.19.5 in c:\\users\\tbohm\\appdata\\local\\miniconda3\\lib\\site-packages (from scikit-learn) (1.26.4)\n",
            "Requirement already satisfied: scipy>=1.6.0 in c:\\users\\tbohm\\appdata\\local\\miniconda3\\lib\\site-packages (from scikit-learn) (1.13.1)\n",
            "Collecting joblib>=1.2.0 (from scikit-learn)\n",
            "  Downloading joblib-1.4.2-py3-none-any.whl.metadata (5.4 kB)\n",
            "Collecting threadpoolctl>=3.1.0 (from scikit-learn)\n",
            "  Downloading threadpoolctl-3.5.0-py3-none-any.whl.metadata (13 kB)\n",
            "Downloading scikit_learn-1.5.1-cp312-cp312-win_amd64.whl (10.9 MB)\n",
            "   ---------------------------------------- 0.0/10.9 MB ? eta -:--:--\n",
            "   ---------------------------------------- 0.0/10.9 MB 660.6 kB/s eta 0:00:17\n",
            "   - -------------------------------------- 0.4/10.9 MB 5.1 MB/s eta 0:00:03\n",
            "   ----- ---------------------------------- 1.5/10.9 MB 11.6 MB/s eta 0:00:01\n",
            "   --------- ------------------------------ 2.7/10.9 MB 15.8 MB/s eta 0:00:01\n",
            "   -------------- ------------------------- 3.9/10.9 MB 18.0 MB/s eta 0:00:01\n",
            "   ----------------- ---------------------- 4.8/10.9 MB 19.0 MB/s eta 0:00:01\n",
            "   ----------------- ---------------------- 4.9/10.9 MB 15.6 MB/s eta 0:00:01\n",
            "   ---------------------- ----------------- 6.3/10.9 MB 17.4 MB/s eta 0:00:01\n",
            "   -------------------------- ------------- 7.4/10.9 MB 18.1 MB/s eta 0:00:01\n",
            "   ------------------------------- -------- 8.6/10.9 MB 19.0 MB/s eta 0:00:01\n",
            "   ----------------------------------- ---- 9.7/10.9 MB 20.0 MB/s eta 0:00:01\n",
            "   ---------------------------------------  10.9/10.9 MB 22.5 MB/s eta 0:00:01\n",
            "   ---------------------------------------- 10.9/10.9 MB 21.1 MB/s eta 0:00:00\n",
            "Downloading joblib-1.4.2-py3-none-any.whl (301 kB)\n",
            "   ---------------------------------------- 0.0/301.8 kB ? eta -:--:--\n",
            "   --------------------------------------- 301.8/301.8 kB 18.2 MB/s eta 0:00:00\n",
            "Downloading threadpoolctl-3.5.0-py3-none-any.whl (18 kB)\n",
            "Installing collected packages: threadpoolctl, joblib, scikit-learn\n",
            "Successfully installed joblib-1.4.2 scikit-learn-1.5.1 threadpoolctl-3.5.0\n"
          ]
        }
      ],
      "source": [
        "!pip install seaborn\n",
        "!pip install scikit-learn"
      ]
    },
    {
      "cell_type": "code",
      "execution_count": 47,
      "metadata": {
        "id": "nOyW1XMvLu_Q"
      },
      "outputs": [],
      "source": [
        "\n",
        "import seaborn as sns\n",
        "# import pandas as pd\n",
        "from sklearn.cluster import KMeans  # Example clustering algorithm\n",
        "from sklearn.preprocessing import StandardScaler"
      ]
    },
    {
      "cell_type": "code",
      "execution_count": 48,
      "metadata": {
        "id": "U6smHFUIL7_M"
      },
      "outputs": [],
      "source": [
        "# Standardize data (optional)\n",
        "scaler = StandardScaler()\n",
        "scaled_exp = scaler.fit_transform(expr_numpy_pos) # use the name of your array"
      ]
    },
    {
      "cell_type": "code",
      "execution_count": 49,
      "metadata": {
        "id": "ZBG43Yg6MW0h"
      },
      "outputs": [
        {
          "name": "stderr",
          "output_type": "stream",
          "text": [
            "c:\\Users\\tbohm\\AppData\\Local\\miniconda3\\Lib\\site-packages\\seaborn\\matrix.py:560: UserWarning: Clustering large matrix with scipy. Installing `fastcluster` may give better performance.\n",
            "  warnings.warn(msg)\n",
            "c:\\Users\\tbohm\\AppData\\Local\\miniconda3\\Lib\\site-packages\\seaborn\\matrix.py:560: UserWarning: Clustering large matrix with scipy. Installing `fastcluster` may give better performance.\n",
            "  warnings.warn(msg)\n"
          ]
        },
        {
          "data": {
            "text/plain": [
              "<seaborn.matrix.ClusterGrid at 0x20b902f7980>"
            ]
          },
          "execution_count": 49,
          "metadata": {},
          "output_type": "execute_result"
        },
        {
          "data": {
            "image/png": "[encoded data removed]",
            "text/plain": [
              "<Figure size 1000x800 with 4 Axes>"
            ]
          },
          "metadata": {},
          "output_type": "display_data"
        }
      ],
      "source": [
        "\n",
        "# Create the clustermap with hierarchical clustering\n",
        "sns.clustermap(scaled_exp,\n",
        "               method='ward',  # Linkage method (ward, single, complete, average, etc.)\n",
        "               metric='euclidean',  # Distance metric (euclidean, cityblock, etc.)\n",
        "               cmap=\"YlGnBu\",       # Colormap\n",
        "               figsize=(10, 8))    # Figure size"
      ]
    },
    {
      "cell_type": "markdown",
      "metadata": {
        "id": "qYo7-frTTQsF"
      },
      "source": [
        "### Right click the plot and save the heatmap as image\n",
        "\n",
        "# Done. Congratulations!"
      ]
    }
  ],
  "metadata": {
    "colab": {
      "provenance": []
    },
    "kernelspec": {
      "display_name": "Python 3",
      "name": "python3"
    },
    "language_info": {
      "codemirror_mode": {
        "name": "ipython",
        "version": 3
      },
      "file_extension": ".py",
      "mimetype": "text/x-python",
      "name": "python",
      "nbconvert_exporter": "python",
      "pygments_lexer": "ipython3",
      "version": "3.12.3"
    }
  },
  "nbformat": 4,
  "nbformat_minor": 0
}
